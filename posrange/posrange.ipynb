{
 "cells": [
  {
   "cell_type": "code",
   "execution_count": 1,
   "metadata": {
    "collapsed": false
   },
   "outputs": [],
   "source": [
    "import pandas as pd\n",
    "import numpy as np\n",
    "import itertools\n",
    "import urllib2\n",
    "import json\n",
    "from tqdm import tqdm\n",
    "pd.set_option('max_columns', None)"
   ]
  },
  {
   "cell_type": "code",
   "execution_count": 2,
   "metadata": {
    "collapsed": true
   },
   "outputs": [],
   "source": [
    "week = 14"
   ]
  },
  {
   "cell_type": "code",
   "execution_count": 3,
   "metadata": {
    "collapsed": true
   },
   "outputs": [],
   "source": [
    "team_map = {1: 'Arsenal',\n",
    "    2: 'Bournemouth',\n",
    "    3: 'Burnley',\n",
    "    4: 'Chelsea',\n",
    "    5: 'Crystal Palace',\n",
    "    6: 'Everton',\n",
    "    7: 'Hull City',\n",
    "    8: 'Leicester City',\n",
    "    9: 'Liverpool',\n",
    "    10: 'Manchester City',\n",
    "    11: 'Manchester United',\n",
    "    12: 'Middlesbrough',\n",
    "    13: 'Southampton',\n",
    "    14: 'Stoke City',\n",
    "    15: 'Sunderland',\n",
    "    16: 'Swansea City',\n",
    "    17: 'Tottenham Hotspur',\n",
    "    18: 'Watford',\n",
    "    19: 'West Bromwich Albion',\n",
    "    20: 'West Ham United'}"
   ]
  },
  {
   "cell_type": "code",
   "execution_count": 4,
   "metadata": {
    "collapsed": true
   },
   "outputs": [],
   "source": [
    "def gen_fixtures(week):\n",
    "    '''Function for generating fixtures for given week'''\n",
    "    \n",
    "    fixurl = 'https://fantasy.premierleague.com/drf/fixtures/?event={}'\n",
    "    fixlist=[]\n",
    "    resp = urllib2.urlopen(fixurl.format(week))\n",
    "    fixtures = json.loads(resp.read())\n",
    "    resp.close()\n",
    "\n",
    "    for fixture in fixtures:\n",
    "        fixlist.append((fixture['team_h'], fixture['team_a']))\n",
    "\n",
    "    return (pd.DataFrame(fixlist, columns=['hometeam','awayteam'])\n",
    "     .replace(team_map))"
   ]
  },
  {
   "cell_type": "code",
   "execution_count": 5,
   "metadata": {
    "collapsed": false
   },
   "outputs": [],
   "source": [
    "def gen_ptstable(week):\n",
    "    '''Function to generate points table as it stands before start of week'''\n",
    "    \n",
    "    taburl = 'https://footballapi.pulselive.com/football/standings?compSeasons=54&altIds=true&detail=2&FOOTBALL_COMPETITION=1&gameweekNumbers=1-{}'\n",
    "        \n",
    "    request = urllib2.Request(taburl.format(week-1), headers= {'Origin': 'https://www.premierleague.com'})\n",
    "    contents = urllib2.urlopen(request).read()\n",
    "    entry = json.loads(contents)['tables'][0]['entries']\n",
    "    \n",
    "    cur = []\n",
    "    for row in entry:\n",
    "        cur.append((row['team']['name'], int(row['overall']['points']), int(row['position'])))\n",
    "    \n",
    "    return pd.DataFrame(cur, columns=['team','curpts','curpos']).set_index('team')"
   ]
  },
  {
   "cell_type": "code",
   "execution_count": 6,
   "metadata": {
    "collapsed": false
   },
   "outputs": [],
   "source": [
    "def gen_posrange(curpos, nextfix):\n",
    "    '''Function to generate range of positions for a team\n",
    "    given their current position and next round of fixtures'''\n",
    "    \n",
    "    futpts = {}\n",
    "    ctr = 1\n",
    "    for i in tqdm(itertools.product(['H','A','D'], repeat= len(nextfix))):\n",
    "        for j in range(len(nextfix)):\n",
    "            hp = np.where(i[j] == 'H', 3, np.where(i[j] == 'A', 0, 1))\n",
    "            ap = np.where(i[j] == 'A', 3, np.where(i[j] == 'H', 0, 1))\n",
    "            futpts[nextfix.loc[j, 'hometeam']] = curpos.loc[nextfix.loc[j, 'hometeam'], 'curpts'] + hp\n",
    "            futpts[nextfix.loc[j, 'awayteam']] = curpos.loc[nextfix.loc[j, 'awayteam'], 'curpts'] + ap\n",
    "        curpos = curpos.join(pd.Series(futpts, name='{}'.format(ctr)))\n",
    "        ctr += 1\n",
    "\n",
    "    # curbkup = cur.copy()\n",
    "    # cur.head()\n",
    "\n",
    "    # curbkup.shape\n",
    "\n",
    "    posrange = (curpos.drop(['curpts', 'curpos'], axis=1)\n",
    "     .rank(method='min', ascending=False).\n",
    "     join(curpos.drop(['curpts', 'curpos'], axis=1)\n",
    "          .rank(method='max', ascending=False), lsuffix='min', rsuffix='max'))\n",
    "\n",
    "    return (pd.DataFrame([posrange.min(axis=1), posrange.max(axis=1)],\n",
    "                            index=['minpos','maxpos']).transpose().\n",
    "                join(curpos.curpos))"
   ]
  },
  {
   "cell_type": "code",
   "execution_count": 7,
   "metadata": {
    "collapsed": false
   },
   "outputs": [
    {
     "name": "stderr",
     "output_type": "stream",
     "text": [
      "59049it [28:58, 22.71it/s]\n"
     ]
    }
   ],
   "source": [
    "nextfix = gen_fixtures(week)\n",
    "curpos = gen_ptstable(week)\n",
    "posfinal = gen_posrange(curpos, nextfix)"
   ]
  },
  {
   "cell_type": "code",
   "execution_count": 8,
   "metadata": {
    "collapsed": false,
    "scrolled": true
   },
   "outputs": [
    {
     "name": "stdout",
     "output_type": "stream",
     "text": [
      "                      minpos  maxpos  curpos\n",
      "team                                        \n",
      "Chelsea                  1.0     4.0       1\n",
      "Liverpool                1.0     4.0       2\n",
      "Manchester City          1.0     4.0       3\n",
      "Arsenal                  2.0     4.0       4\n",
      "Tottenham Hotspur        5.0     5.0       5\n",
      "Manchester United        6.0     9.0       6\n",
      "Everton                  6.0    10.0       7\n",
      "Watford                  6.0    12.0       8\n",
      "West Bromwich Albion     7.0    12.0       9\n",
      "Southampton              7.0    12.0      10\n",
      "Stoke City               7.0    14.0      11\n",
      "Bournemouth              9.0    16.0      12\n",
      "Burnley                  9.0    17.0      13\n",
      "Leicester City          12.0    17.0      14\n",
      "Middlesbrough           12.0    19.0      15\n",
      "West Ham United         12.0    19.0      16\n",
      "Crystal Palace          13.0    20.0      17\n",
      "Hull City               13.0    20.0      18\n",
      "Swansea City            16.0    20.0      19\n",
      "Sunderland              17.0    20.0      20\n"
     ]
    }
   ],
   "source": [
    "posfinal.to_csv('data/posfinal_{}.csv'.format(week))\n",
    "print posfinal"
   ]
  }
 ],
 "metadata": {
  "anaconda-cloud": {},
  "kernelspec": {
   "display_name": "Python [conda root]",
   "language": "python",
   "name": "conda-root-py"
  },
  "language_info": {
   "codemirror_mode": {
    "name": "ipython",
    "version": 2
   },
   "file_extension": ".py",
   "mimetype": "text/x-python",
   "name": "python",
   "nbconvert_exporter": "python",
   "pygments_lexer": "ipython2",
   "version": "2.7.12"
  }
 },
 "nbformat": 4,
 "nbformat_minor": 1
}
