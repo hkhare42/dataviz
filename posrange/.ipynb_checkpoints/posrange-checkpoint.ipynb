{
 "cells": [
  {
   "cell_type": "code",
   "execution_count": 2,
   "metadata": {
    "collapsed": false
   },
   "outputs": [],
   "source": [
    "import pandas as pd\n",
    "import numpy as np\n",
    "import itertools\n",
    "from bs4 import BeautifulSoup\n",
    "import urllib2\n",
    "import json\n",
    "from tqdm import tqdm\n",
    "pd.set_option('max_columns', None)"
   ]
  },
  {
   "cell_type": "code",
   "execution_count": 114,
   "metadata": {
    "collapsed": true
   },
   "outputs": [],
   "source": [
    "week = 15"
   ]
  },
  {
   "cell_type": "code",
   "execution_count": 124,
   "metadata": {
    "collapsed": true
   },
   "outputs": [],
   "source": [
    "team_map = {1: 'Arsenal',\n",
    "    2: 'Bournemouth',\n",
    "    3: 'Burnley',\n",
    "    4: 'Chelsea',\n",
    "    5: 'Crystal Palace',\n",
    "    6: 'Everton',\n",
    "    7: 'Hull City',\n",
    "    8: 'Leicester City',\n",
    "    9: 'Liverpool',\n",
    "    10: 'Manchester City',\n",
    "    11: 'Manchester United',\n",
    "    12: 'Middlesbrough',\n",
    "    13: 'Southampton',\n",
    "    14: 'Stoke City',\n",
    "    15: 'Sunderland',\n",
    "    16: 'Swansea City',\n",
    "    17: 'Tottenham Hotspur',\n",
    "    18: 'Watford',\n",
    "    19: 'West Bromwich Albion',\n",
    "    20: 'West Ham United'}"
   ]
  },
  {
   "cell_type": "code",
   "execution_count": 125,
   "metadata": {
    "collapsed": true
   },
   "outputs": [],
   "source": [
    "def gen_fixtures(week):\n",
    "    '''Function for generating fixtures for given week'''\n",
    "    \n",
    "    fixurl = 'https://fantasy.premierleague.com/drf/fixtures/?event={}'\n",
    "    fixlist=[]\n",
    "    resp = urllib2.urlopen(fixurl.format(week))\n",
    "    fixtures = json.loads(resp.read())\n",
    "    resp.close()\n",
    "\n",
    "    for fixture in fixtures:\n",
    "        fixlist.append((fixture['team_h'], fixture['team_a']))\n",
    "\n",
    "    return (pd.DataFrame(fixlist, columns=['hometeam','awayteam'])\n",
    "     .replace(team_map))"
   ]
  },
  {
   "cell_type": "code",
   "execution_count": 126,
   "metadata": {
    "collapsed": false
   },
   "outputs": [],
   "source": [
    "def gen_ptstable(week):\n",
    "    '''Function to generate points table as it stands before start of week'''\n",
    "    \n",
    "    taburl = 'https://www.premierleague.com/tables?co=1&se=54&mw=1-{}&ha=-1'\n",
    "    bs = BeautifulSoup(urllib2.urlopen(taburl.format(week-1)), 'lxml')\n",
    "\n",
    "    cur = []\n",
    "    for row in bs.find('tbody', class_='tableBodyContainer').find_all('tr', {'data-compseason': '54'}):\n",
    "        cur.append((row.find('span', class_='long').text,\n",
    "                    int(row.find('td', class_='points').text),\n",
    "                    int(row.find('td', {'id':'Tooltip'}).span.text)))\n",
    "    return pd.DataFrame(cur, columns=['team','curpts','curpos']).set_index('team')"
   ]
  },
  {
   "cell_type": "code",
   "execution_count": 82,
   "metadata": {
    "collapsed": false
   },
   "outputs": [
    {
     "name": "stderr",
     "output_type": "stream",
     "text": [
      "59049it [29:16, 19.66it/s]\n"
     ]
    }
   ],
   "source": [
    "def gen_posrange(curpos, nextfix):\n",
    "    '''Function to generate range of positions for a team\n",
    "    given their current position and next round of fixtures'''\n",
    "    futpts = {}\n",
    "    ctr = 1\n",
    "    for i in tqdm(itertools.product(['H','A','D'], repeat= len(curfix))):\n",
    "        for j in range(len(nextfix)):\n",
    "            hp = np.where(i[j] == 'H', 3, np.where(i[j] == 'A', 0, 1))\n",
    "            ap = np.where(i[j] == 'A', 3, np.where(i[j] == 'H', 0, 1))\n",
    "            futpts[nextfix.loc[j, 'hometeam']] = curpos.loc[nextfix.loc[j, 'hometeam'], 'curpts'] + hp\n",
    "            futpts[nextfix.loc[j, 'awayteam']] = curpos.loc[nextfix.loc[j, 'awayteam'], 'curpts'] + ap\n",
    "        curpos = curpos.join(pd.Series(futpts, name='{}'.format(ctr)))\n",
    "        ctr += 1\n",
    "\n",
    "    # curbkup = cur.copy()\n",
    "    # cur.head()\n",
    "\n",
    "    # curbkup.shape\n",
    "\n",
    "    posrange = (curpos.drop(['curpts', 'curpos'], axis=1)\n",
    "     .rank(method='min', ascending=False).\n",
    "     join(curpos.drop(['curpts', 'curpos'], axis=1)\n",
    "          .rank(method='max', ascending=False), lsuffix='min', rsuffix='max'))\n",
    "\n",
    "    return (pd.DataFrame([posrange.min(axis=1), posrange.max(axis=1)],\n",
    "                            index=['minpos','maxpos']).transpose().\n",
    "                join(curpos.curpos))"
   ]
  },
  {
   "cell_type": "code",
   "execution_count": 123,
   "metadata": {
    "collapsed": false
   },
   "outputs": [
    {
     "data": {
      "text/html": [
       "<div>\n",
       "<table border=\"1\" class=\"dataframe\">\n",
       "  <thead>\n",
       "    <tr style=\"text-align: right;\">\n",
       "      <th></th>\n",
       "      <th>minpos</th>\n",
       "      <th>maxpos</th>\n",
       "      <th>curpos</th>\n",
       "    </tr>\n",
       "    <tr>\n",
       "      <th>team</th>\n",
       "      <th></th>\n",
       "      <th></th>\n",
       "      <th></th>\n",
       "    </tr>\n",
       "  </thead>\n",
       "  <tbody>\n",
       "    <tr>\n",
       "      <th>Chelsea</th>\n",
       "      <td>1.0</td>\n",
       "      <td>2.0</td>\n",
       "      <td>1</td>\n",
       "    </tr>\n",
       "    <tr>\n",
       "      <th>Arsenal</th>\n",
       "      <td>1.0</td>\n",
       "      <td>4.0</td>\n",
       "      <td>2</td>\n",
       "    </tr>\n",
       "    <tr>\n",
       "      <th>Liverpool</th>\n",
       "      <td>2.0</td>\n",
       "      <td>5.0</td>\n",
       "      <td>3</td>\n",
       "    </tr>\n",
       "    <tr>\n",
       "      <th>Manchester City</th>\n",
       "      <td>2.0</td>\n",
       "      <td>5.0</td>\n",
       "      <td>4</td>\n",
       "    </tr>\n",
       "    <tr>\n",
       "      <th>Tottenham Hotspur</th>\n",
       "      <td>3.0</td>\n",
       "      <td>5.0</td>\n",
       "      <td>5</td>\n",
       "    </tr>\n",
       "    <tr>\n",
       "      <th>Manchester United</th>\n",
       "      <td>6.0</td>\n",
       "      <td>10.0</td>\n",
       "      <td>6</td>\n",
       "    </tr>\n",
       "    <tr>\n",
       "      <th>West Bromwich Albion</th>\n",
       "      <td>6.0</td>\n",
       "      <td>12.0</td>\n",
       "      <td>7</td>\n",
       "    </tr>\n",
       "    <tr>\n",
       "      <th>Everton</th>\n",
       "      <td>6.0</td>\n",
       "      <td>12.0</td>\n",
       "      <td>8</td>\n",
       "    </tr>\n",
       "    <tr>\n",
       "      <th>Stoke City</th>\n",
       "      <td>6.0</td>\n",
       "      <td>12.0</td>\n",
       "      <td>9</td>\n",
       "    </tr>\n",
       "    <tr>\n",
       "      <th>Bournemouth</th>\n",
       "      <td>6.0</td>\n",
       "      <td>12.0</td>\n",
       "      <td>10</td>\n",
       "    </tr>\n",
       "    <tr>\n",
       "      <th>Watford</th>\n",
       "      <td>6.0</td>\n",
       "      <td>12.0</td>\n",
       "      <td>11</td>\n",
       "    </tr>\n",
       "    <tr>\n",
       "      <th>Southampton</th>\n",
       "      <td>8.0</td>\n",
       "      <td>15.0</td>\n",
       "      <td>12</td>\n",
       "    </tr>\n",
       "    <tr>\n",
       "      <th>Middlesbrough</th>\n",
       "      <td>10.0</td>\n",
       "      <td>17.0</td>\n",
       "      <td>13</td>\n",
       "    </tr>\n",
       "    <tr>\n",
       "      <th>Crystal Palace</th>\n",
       "      <td>13.0</td>\n",
       "      <td>19.0</td>\n",
       "      <td>14</td>\n",
       "    </tr>\n",
       "    <tr>\n",
       "      <th>Burnley</th>\n",
       "      <td>13.0</td>\n",
       "      <td>19.0</td>\n",
       "      <td>15</td>\n",
       "    </tr>\n",
       "    <tr>\n",
       "      <th>Leicester City</th>\n",
       "      <td>13.0</td>\n",
       "      <td>19.0</td>\n",
       "      <td>16</td>\n",
       "    </tr>\n",
       "    <tr>\n",
       "      <th>West Ham United</th>\n",
       "      <td>13.0</td>\n",
       "      <td>19.0</td>\n",
       "      <td>17</td>\n",
       "    </tr>\n",
       "    <tr>\n",
       "      <th>Sunderland</th>\n",
       "      <td>14.0</td>\n",
       "      <td>20.0</td>\n",
       "      <td>18</td>\n",
       "    </tr>\n",
       "    <tr>\n",
       "      <th>Hull City</th>\n",
       "      <td>14.0</td>\n",
       "      <td>20.0</td>\n",
       "      <td>19</td>\n",
       "    </tr>\n",
       "    <tr>\n",
       "      <th>Swansea City</th>\n",
       "      <td>17.0</td>\n",
       "      <td>20.0</td>\n",
       "      <td>20</td>\n",
       "    </tr>\n",
       "  </tbody>\n",
       "</table>\n",
       "</div>"
      ],
      "text/plain": [
       "                      minpos  maxpos  curpos\n",
       "team                                        \n",
       "Chelsea                  1.0     2.0       1\n",
       "Arsenal                  1.0     4.0       2\n",
       "Liverpool                2.0     5.0       3\n",
       "Manchester City          2.0     5.0       4\n",
       "Tottenham Hotspur        3.0     5.0       5\n",
       "Manchester United        6.0    10.0       6\n",
       "West Bromwich Albion     6.0    12.0       7\n",
       "Everton                  6.0    12.0       8\n",
       "Stoke City               6.0    12.0       9\n",
       "Bournemouth              6.0    12.0      10\n",
       "Watford                  6.0    12.0      11\n",
       "Southampton              8.0    15.0      12\n",
       "Middlesbrough           10.0    17.0      13\n",
       "Crystal Palace          13.0    19.0      14\n",
       "Burnley                 13.0    19.0      15\n",
       "Leicester City          13.0    19.0      16\n",
       "West Ham United         13.0    19.0      17\n",
       "Sunderland              14.0    20.0      18\n",
       "Hull City               14.0    20.0      19\n",
       "Swansea City            17.0    20.0      20"
      ]
     },
     "execution_count": 123,
     "metadata": {},
     "output_type": "execute_result"
    }
   ],
   "source": [
    "nextfix = gen_fixtures(week)\n",
    "curpos = gen_ptstable(week)\n",
    "posfinal = gen_posrange(curpos, nextfix)"
   ]
  },
  {
   "cell_type": "code",
   "execution_count": 131,
   "metadata": {
    "collapsed": false
   },
   "outputs": [
    {
     "name": "stdout",
     "output_type": "stream",
     "text": [
      "                      minpos  maxpos  curpos\n",
      "team                                        \n",
      "Chelsea                  1.0     2.0       1\n",
      "Arsenal                  1.0     4.0       2\n",
      "Liverpool                2.0     5.0       3\n",
      "Manchester City          2.0     5.0       4\n",
      "Tottenham Hotspur        3.0     5.0       5\n",
      "Manchester United        6.0    10.0       6\n",
      "West Bromwich Albion     6.0    12.0       7\n",
      "Everton                  6.0    12.0       8\n",
      "Stoke City               6.0    12.0       9\n",
      "Bournemouth              6.0    12.0      10\n",
      "Watford                  6.0    12.0      11\n",
      "Southampton              8.0    15.0      12\n",
      "Middlesbrough           10.0    17.0      13\n",
      "Crystal Palace          13.0    19.0      14\n",
      "Burnley                 13.0    19.0      15\n",
      "Leicester City          13.0    19.0      16\n",
      "West Ham United         13.0    19.0      17\n",
      "Sunderland              14.0    20.0      18\n",
      "Hull City               14.0    20.0      19\n",
      "Swansea City            17.0    20.0      20\n"
     ]
    }
   ],
   "source": [
    "# posfinal.to_csv('data/posfinal.csv')\n",
    "print posfinal"
   ]
  },
  {
   "cell_type": "code",
   "execution_count": null,
   "metadata": {
    "collapsed": true
   },
   "outputs": [],
   "source": []
  }
 ],
 "metadata": {
  "anaconda-cloud": {},
  "kernelspec": {
   "display_name": "Python [conda root]",
   "language": "python",
   "name": "conda-root-py"
  },
  "language_info": {
   "codemirror_mode": {
    "name": "ipython",
    "version": 2
   },
   "file_extension": ".py",
   "mimetype": "text/x-python",
   "name": "python",
   "nbconvert_exporter": "python",
   "pygments_lexer": "ipython2",
   "version": "2.7.12"
  }
 },
 "nbformat": 4,
 "nbformat_minor": 1
}
