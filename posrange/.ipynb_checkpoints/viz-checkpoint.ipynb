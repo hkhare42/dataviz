{
 "cells": [
  {
   "cell_type": "code",
   "execution_count": 1,
   "metadata": {
    "collapsed": true
   },
   "outputs": [],
   "source": [
    "import pandas as pd\n",
    "data = pd.read_csv('data/posfinal_14.csv')"
   ]
  },
  {
   "cell_type": "code",
   "execution_count": 2,
   "metadata": {
    "collapsed": true
   },
   "outputs": [],
   "source": [
    "import numpy as np"
   ]
  },
  {
   "cell_type": "code",
   "execution_count": 3,
   "metadata": {
    "collapsed": false
   },
   "outputs": [],
   "source": [
    "data = data.assign(width= lambda x: x['maxpos'] - x['minpos'],\n",
    "                  center= lambda x: (x['maxpos'] + x['minpos'])/2,\n",
    "                  cursize= lambda x: np.where(((x['maxpos'] == x['curpos'])|(x['minpos']==x['curpos'])),\n",
    "                                              20,10))"
   ]
  },
  {
   "cell_type": "code",
   "execution_count": 4,
   "metadata": {
    "collapsed": false
   },
   "outputs": [],
   "source": [
    "from bokeh.io import output_file, output_notebook, show"
   ]
  },
  {
   "cell_type": "code",
   "execution_count": 5,
   "metadata": {
    "collapsed": false
   },
   "outputs": [],
   "source": [
    "# output_notebook()"
   ]
  },
  {
   "cell_type": "code",
   "execution_count": 6,
   "metadata": {
    "collapsed": true
   },
   "outputs": [],
   "source": [
    "output_file('posrange.html')"
   ]
  },
  {
   "cell_type": "code",
   "execution_count": 7,
   "metadata": {
    "collapsed": false
   },
   "outputs": [],
   "source": [
    "from bokeh.models import (ColumnDataSource, \n",
    "                          Plot, \n",
    "                          LinearAxis,\n",
    "                          CategoricalAxis,\n",
    "                          Range1d, \n",
    "                          FactorRange, \n",
    "                          Circle,\n",
    "                          Label,\n",
    "                          FixedTicker,\n",
    "                          Grid,\n",
    "                          Rect,\n",
    "                          LabelSet,\n",
    "                          Legend\n",
    "                          )\n",
    "# from bokeh.plotting import Figure"
   ]
  },
  {
   "cell_type": "code",
   "execution_count": 8,
   "metadata": {
    "collapsed": false,
    "scrolled": false
   },
   "outputs": [],
   "source": [
    "cds = ColumnDataSource(data)\n",
    "\n",
    "p = Plot(title=None, plot_width=500, plot_height=600, min_border_top=70, \n",
    "         toolbar_location=None, logo=None, outline_line_color=None,\n",
    "          x_range=Range1d(0,21), y_range=FactorRange(factors=list(data.team)[::-1]))\n",
    "\n",
    "yax = CategoricalAxis(major_label_text_align='left', axis_line_color=None, \n",
    "                     major_label_text_font_size='16px', major_label_text_font_style='bold',\n",
    "                     major_tick_line_color=None)\n",
    "p.add_layout(yax, 'left')\n",
    "\n",
    "p.add_glyph(cds, Rect(x='center', y='team',\n",
    "                     width='width', height=0.2, \n",
    "                     line_color=None, fill_color='#9D9D9D' ))\n",
    "\n",
    "maxp = p.add_glyph(cds, Circle(x='maxpos',y='team',fill_color='#75C5E4',line_color=None, size=20))\n",
    "minp = p.add_glyph(cds, Circle(x='minpos',y='team',fill_color='#0068A1',line_color=None, size=20))\n",
    "curp = p.add_glyph(cds, Circle(x='curpos',y='team',fill_color='#9D9D9D',line_color=None, size='cursize'))\n",
    "\n",
    "labarg = dict(render_mode='canvas', text_align='center', \n",
    "                  text_baseline='middle', text_font_size='8pt',\n",
    "                  text_color='#FFFFFF', text_font_style='bold', \n",
    "                  x_offset=-0.5, y_offset=-1, source=cds)\n",
    "\n",
    "minlab = LabelSet(x='minpos', y='team', text='minpos', **labarg)\n",
    "maxlab = LabelSet(x='maxpos', y='team', text='maxpos', **labarg)\n",
    "p.add_layout(minlab)\n",
    "p.add_layout(maxlab)\n",
    "\n",
    "ticky = FixedTicker(ticks=[4.5, 10.5, 17.5])\n",
    "tickx = FixedTicker(ticks=[16.5, 10.5, 3.5])\n",
    "grx = Grid(dimension=1, ticker=tickx)\n",
    "gry = Grid(dimension=0, ticker=ticky)\n",
    "p.add_layout(grx)\n",
    "p.add_layout(gry)\n",
    "\n",
    "labarg2 = dict(x=5, y=10, x_units='screen', y_units='screen')\n",
    "subhead1 = Label(text='Spread of possible positions following fixtures on December 3-5;',\n",
    "                **labarg2)\n",
    "\n",
    "# subhead2 = Label(text='Thin grey lines indicate top four, top half and relegation zone',\n",
    "#                 **labarg2)\n",
    "\n",
    "head = Label(text_font_style='bold', text_font_size='20px', \n",
    "             text='How much could the Premier League table change?',\n",
    "            **labarg2)\n",
    "\n",
    "# p.add_layout(subhead2, 'above')\n",
    "p.add_layout(subhead1, 'above')\n",
    "p.add_layout(head, 'above')\n",
    "\n",
    "# leg = Legend(items=[\n",
    "#         ('highest possible rise', [minp]),\n",
    "#         ('lowest possible fall', [maxp]),\n",
    "#         ('current position', [curp])\n",
    "#     ], orientation='horizontal',\n",
    "#             location='bottom_center')\n",
    "# p.add_layout(leg, 'below')\n",
    "\n",
    "show(p)"
   ]
  }
 ],
 "metadata": {
  "anaconda-cloud": {},
  "kernelspec": {
   "display_name": "Python [conda root]",
   "language": "python",
   "name": "conda-root-py"
  },
  "language_info": {
   "codemirror_mode": {
    "name": "ipython",
    "version": 2
   },
   "file_extension": ".py",
   "mimetype": "text/x-python",
   "name": "python",
   "nbconvert_exporter": "python",
   "pygments_lexer": "ipython2",
   "version": "2.7.12"
  }
 },
 "nbformat": 4,
 "nbformat_minor": 1
}
